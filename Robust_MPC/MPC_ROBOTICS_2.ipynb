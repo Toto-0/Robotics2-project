{
  "cells": [
    {
      "cell_type": "markdown",
      "metadata": {
        "id": "view-in-github",
        "colab_type": "text"
      },
      "source": [
        "<a href=\"https://colab.research.google.com/github/Toto-0/Robotics2-project/blob/main/Robust_MPC/MPC_ROBOTICS_2.ipynb\" target=\"_parent\"><img src=\"https://colab.research.google.com/assets/colab-badge.svg\" alt=\"Open In Colab\"/></a>"
      ]
    },
    {
      "cell_type": "markdown",
      "source": [
        "#Robotics 2 Project"
      ],
      "metadata": {
        "id": "E8aFbuZJocwG"
      }
    },
    {
      "cell_type": "markdown",
      "source": [
        "##Imports"
      ],
      "metadata": {
        "id": "ZQpbnd5eomHF"
      }
    },
    {
      "cell_type": "code",
      "execution_count": null,
      "metadata": {
        "id": "ZdE8vOHfx39y"
      },
      "outputs": [],
      "source": [
        "%%capture\n",
        "!pip install do_mpc\n",
        "!sudo apt install imagemagick"
      ]
    },
    {
      "cell_type": "code",
      "execution_count": null,
      "metadata": {
        "id": "2qBQaksqxf8n"
      },
      "outputs": [],
      "source": [
        "import numpy as np\n",
        "import do_mpc\n",
        "from casadi import *"
      ]
    },
    {
      "cell_type": "markdown",
      "source": [
        "##Model definition"
      ],
      "metadata": {
        "id": "_4Pz6DISoo2u"
      }
    },
    {
      "cell_type": "code",
      "execution_count": null,
      "metadata": {
        "id": "0nbCxB6Jxs6g"
      },
      "outputs": [],
      "source": [
        "model_type = 'continuous' # either 'discrete' or 'continuous'\n",
        "model = do_mpc.model.Model(model_type)\n"
      ]
    },
    {
      "cell_type": "code",
      "execution_count": null,
      "metadata": {
        "id": "vI9kAVFIxyhQ"
      },
      "outputs": [],
      "source": [
        "# State variables\n",
        "q1 = model.set_variable(var_type='_x', var_name='q1', shape=(1,1))\n",
        "q2 = model.set_variable(var_type='_x', var_name='q2', shape=(1,1))\n",
        "q3 = model.set_variable(var_type='_x', var_name='q3', shape=(1,1))\n",
        "dq = model.set_variable(var_type='_x', var_name='dq', shape=(3,1))\n",
        "\n",
        "# Three inputs for the torque:\n",
        "u1 = model.set_variable(var_type='_u', var_name='u1')\n",
        "u2 = model.set_variable(var_type='_u', var_name='u2')\n",
        "u3 = model.set_variable(var_type='_u', var_name='u3')\n",
        "\n",
        "# Uncertain parameters\n",
        "mass_payload = model.set_variable('parameter', 'm_p')\n",
        "\n",
        "I3zz = 0.25+0.25*mass_payload\n",
        "m3 = 3+mass_payload\n",
        "dc3 = (0.25*3 + 0.5*mass_payload)/(3+mass_payload)\n",
        "\n",
        "# Dynamic model of 3R\n",
        "\n",
        "dq_next=vertcat(\n",
        "    # 3R without gravity\n",
        "    #(16*(u2 - (3*(dq[0]**2)*sin(q2))/8 - (m3*(dq[0]**2)*sin(q2))/4 - (dc3*m3*dq[0]**2*sin(q2 + q3))/2 + (dc3*m3*dq[2]**2*sin(q3))/2 + dc3*m3*dq[0]*dq[2]*sin(q3) + dc3*m3*dq[1]*dq[2]*sin(q3))*(7*I3zz + 4*I3zz*m3 + 6*I3zz*cos(q2) + 7*dc3**2*m3 + 4*dc3**2*m3**2 - 4*dc3**2*m3**2*cos(q3)**2 + 6*dc3**2*m3*cos(q2) + 4*dc3**2*m3**2*cos(q2) + 4*I3zz*m3*cos(q2) - 4*dc3**2*m3**2*cos(q2 + q3)*cos(q3)))/(36*I3zz*cos(q2)**2 - 104*I3zz*m3 - 16*I3zz*m3**2 - 133*dc3**2*m3 - 133*I3zz - 104*dc3**2*m3**2 - 16*dc3**2*m3**3 + 48*dc3**2*m3**2*cos(q2)**2 + 76*dc3**2*m3**2*cos(q3)**2 + 16*dc3**2*m3**3*cos(q2)**2 + 16*dc3**2*m3**3*cos(q3)**2 + 48*I3zz*m3*cos(q2)**2 + 16*I3zz*m3**2*cos(q2)**2 + 36*dc3**2*m3*cos(q2)**2 + 28*dc3**2*m3**2*cos(q2 + q3)**2 + 16*dc3**2*m3**3*cos(q2 + q3)**2 - 48*dc3**2*m3**2*cos(q2 + q3)*cos(q2)*cos(q3) - 32*dc3**2*m3**3*cos(q2 + q3)*cos(q2)*cos(q3)) - (16*(7*I3zz + 4*I3zz*m3 + 7*dc3**2*m3 + 4*dc3**2*m3**2 - 4*dc3**2*m3**2*cos(q3)**2)*(u1 + (3*dq[1]**2*sin(q2))/8 + (3*dq[0]*dq[1]*sin(q2))/4 + (m3*dq[1]**2*sin(q2))/4 + (m3*dq[0]*dq[1]*sin(q2))/2 + (dc3*m3*dq[1]**2*sin(q2 + q3))/2 + (dc3*m3*dq[2]**2*sin(q2 + q3))/2 + (dc3*m3*dq[2]**2*sin(q3))/2 + dc3*m3*dq[0]*dq[1]*sin(q2 + q3) + dc3*m3*dq[0]*dq[2]*sin(q2 + q3) + dc3*m3*dq[1]*dq[2]*sin(q2 + q3) + dc3*m3*dq[0]*dq[2]*sin(q3) + dc3*m3*dq[1]*dq[2]*sin(q3)))/(36*I3zz*cos(q2)**2 - 104*I3zz*m3 - 16*I3zz*m3**2 - 133*dc3**2*m3 - 133*I3zz - 104*dc3**2*m3**2 - 16*dc3**2*m3**3 + 48*dc3**2*m3**2*cos(q2)**2 + 76*dc3**2*m3**2*cos(q3)**2 + 16*dc3**2*m3**3*cos(q2)**2 + 16*dc3**2*m3**3*cos(q3)**2 + 48*I3zz*m3*cos(q2)**2 + 16*I3zz*m3**2*cos(q2)**2 + 36*dc3**2*m3*cos(q2)**2 + 28*dc3**2*m3**2*cos(q2 + q3)**2 + 16*dc3**2*m3**3*cos(q2 + q3)**2 - 48*dc3**2*m3**2*cos(q2 + q3)*cos(q2)*cos(q3) - 32*dc3**2*m3**3*cos(q2 + q3)*cos(q2)*cos(q3)) - (8*(u3 - dc3*m3*((dq[0]**2*sin(q3))/2 + (dq[1]**2*sin(q3))/2 + (dq[0]**2*sin(q2 + q3))/2 + dq[0]*dq[1]*sin(q3)))*(12*I3zz*cos(q2) - 4*dc3*m3**2*cos(q2 + q3) + 12*dc3**2*m3*cos(q2) + 8*dc3**2*m3**2*cos(q2) - 7*dc3*m3*cos(q2 + q3) + 8*I3zz*m3*cos(q2) + 4*dc3*m3**2*cos(q2)*cos(q3) - 8*dc3**2*m3**2*cos(q2 + q3)*cos(q3) + 6*dc3*m3*cos(q2)*cos(q3)))/(36*I3zz*cos(q2)**2 - 104*I3zz*m3 - 16*I3zz*m3**2 - 133*dc3**2*m3 - 133*I3zz - 104*dc3**2*m3**2 - 16*dc3**2*m3**3 + 48*dc3**2*m3**2*cos(q2)**2 + 76*dc3**2*m3**2*cos(q3)**2 + 16*dc3**2*m3**3*cos(q2)**2 + 16*dc3**2*m3**3*cos(q3)**2 + 48*I3zz*m3*cos(q2)**2 + 16*I3zz*m3**2*cos(q2)**2 + 36*dc3**2*m3*cos(q2)**2 + 28*dc3**2*m3**2*cos(q2 + q3)**2 + 16*dc3**2*m3**3*cos(q2 + q3)**2 - 48*dc3**2*m3**2*cos(q2 + q3)*cos(q2)*cos(q3) - 32*dc3**2*m3**3*cos(q2 + q3)*cos(q2)*cos(q3)),\n",
        "    #(8*(u3 - dc3*m3*((dq[0]**2*sin(q3))/2 + (dq[1]**2*sin(q3))/2 + (dq[0]**2*sin(q2 + q3))/2 + dq[0]*dq[1]*sin(q3)))*(38*I3zz + 8*I3zz*m3 + 12*I3zz*cos(q2) + 38*dc3**2*m3 + 8*dc3**2*m3**2 + 19*dc3*m3*cos(q3) - 4*dc3*m3**2*cos(q2 + q3) + 12*dc3**2*m3*cos(q2) + 4*dc3*m3**2*cos(q3) + 8*dc3**2*m3**2*cos(q2) - 7*dc3*m3*cos(q2 + q3) + 8*I3zz*m3*cos(q2) - 8*dc3**2*m3**2*cos(q2 + q3)**2 - 4*dc3*m3**2*cos(q2 + q3)*cos(q2) + 4*dc3*m3**2*cos(q2)*cos(q3) - 8*dc3**2*m3**2*cos(q2 + q3)*cos(q3) - 6*dc3*m3*cos(q2 + q3)*cos(q2) + 6*dc3*m3*cos(q2)*cos(q3)))/(36*I3zz*cos(q2)**2 - 104*I3zz*m3 - 16*I3zz*m3**2 - 133*dc3**2*m3 - 133*I3zz - 104*dc3**2*m3**2 - 16*dc3**2*m3**3 + 48*dc3**2*m3**2*cos(q2)**2 + 76*dc3**2*m3**2*cos(q3)**2 + 16*dc3**2*m3**3*cos(q2)**2 + 16*dc3**2*m3**3*cos(q3)**2 + 48*I3zz*m3*cos(q2)**2 + 16*I3zz*m3**2*cos(q2)**2 + 36*dc3**2*m3*cos(q2)**2 + 28*dc3**2*m3**2*cos(q2 + q3)**2 + 16*dc3**2*m3**3*cos(q2 + q3)**2 - 48*dc3**2*m3**2*cos(q2 + q3)*cos(q2)*cos(q3) - 32*dc3**2*m3**3*cos(q2 + q3)*cos(q2)*cos(q3)) + (16*(7*I3zz + 4*I3zz*m3 + 6*I3zz*cos(q2) + 7*dc3**2*m3 + 4*dc3**2*m3**2 - 4*dc3**2*m3**2*cos(q3)**2 + 6*dc3**2*m3*cos(q2) + 4*dc3**2*m3**2*cos(q2) + 4*I3zz*m3*cos(q2) - 4*dc3**2*m3**2*cos(q2 + q3)*cos(q3))*(u1 + (3*dq[1]**2*sin(q2))/8 + (3*dq[0]*dq[1]*sin(q2))/4 + (m3*dq[1]**2*sin(q2))/4 + (m3*dq[0]*dq[1]*sin(q2))/2 + (dc3*m3*dq[1]**2*sin(q2 + q3))/2 + (dc3*m3*dq[2]**2*sin(q2 + q3))/2 + (dc3*m3*dq[2]**2*sin(q3))/2 + dc3*m3*dq[0]*dq[1]*sin(q2 + q3) + dc3*m3*dq[0]*dq[2]*sin(q2 + q3) + dc3*m3*dq[1]*dq[2]*sin(q2 + q3) + dc3*m3*dq[0]*dq[2]*sin(q3) + dc3*m3*dq[1]*dq[2]*sin(q3)))/(36*I3zz*cos(q2)**2 - 104*I3zz*m3 - 16*I3zz*m3**2 - 133*dc3**2*m3 - 133*I3zz - 104*dc3**2*m3**2 - 16*dc3**2*m3**3 + 48*dc3**2*m3**2*cos(q2)**2 + 76*dc3**2*m3**2*cos(q3)**2 + 16*dc3**2*m3**3*cos(q2)**2 + 16*dc3**2*m3**3*cos(q3)**2 + 48*I3zz*m3*cos(q2)**2 + 16*I3zz*m3**2*cos(q2)**2 + 36*dc3**2*m3*cos(q2)**2 + 28*dc3**2*m3**2*cos(q2 + q3)**2 + 16*dc3**2*m3**3*cos(q2 + q3)**2 - 48*dc3**2*m3**2*cos(q2 + q3)*cos(q2)*cos(q3) - 32*dc3**2*m3**3*cos(q2 + q3)*cos(q2)*cos(q3)) - (32*(u2 - (3*dq[0]**2*sin(q2))/8 - (m3*dq[0]**2*sin(q2))/4 - (dc3*m3*dq[0]**2*sin(q2 + q3))/2 + (dc3*m3*dq[2]**2*sin(q3))/2 + dc3*m3*dq[0]*dq[2]*sin(q3) + dc3*m3*dq[1]*dq[2]*sin(q3))*(13*I3zz + 4*I3zz*m3 + 6*I3zz*cos(q2) + 13*dc3**2*m3 + 4*dc3**2*m3**2 - 2*dc3**2*m3**2*cos(q3)**2 + 6*dc3**2*m3*cos(q2) + 4*dc3**2*m3**2*cos(q2) + 4*I3zz*m3*cos(q2) - 2*dc3**2*m3**2*cos(q2 + q3)**2 - 4*dc3**2*m3**2*cos(q2 + q3)*cos(q3)))/(36*I3zz*cos(q2)**2 - 104*I3zz*m3 - 16*I3zz*m3**2 - 133*dc3**2*m3 - 133*I3zz - 104*dc3**2*m3**2 - 16*dc3**2*m3**3 + 48*dc3**2*m3**2*cos(q2)**2 + 76*dc3**2*m3**2*cos(q3)**2 + 16*dc3**2*m3**3*cos(q2)**2 + 16*dc3**2*m3**3*cos(q3)**2 + 48*I3zz*m3*cos(q2)**2 + 16*I3zz*m3**2*cos(q2)**2 + 36*dc3**2*m3*cos(q2)**2 + 28*dc3**2*m3**2*cos(q2 + q3)**2 + 16*dc3**2*m3**3*cos(q2 + q3)**2 - 48*dc3**2*m3**2*cos(q2 + q3)*cos(q2)*cos(q3) - 32*dc3**2*m3**3*cos(q2 + q3)*cos(q2)*cos(q3)),\n",
        "    #(8*(u2 - (3*dq[0]**2*sin(q2))/8 - (m3*dq[0]**2*sin(q2))/4 - (dc3*m3*dq[0]**2*sin(q2 + q3))/2 + (dc3*m3*dq[2]**2*sin(q3))/2 + dc3*m3*dq[0]*dq[2]*sin(q3) + dc3*m3*dq[1]*dq[2]*sin(q3))*(38*I3zz + 8*I3zz*m3 + 12*I3zz*cos(q2) + 38*dc3**2*m3 + 8*dc3**2*m3**2 + 19*dc3*m3*cos(q3) - 4*dc3*m3**2*cos(q2 + q3) + 12*dc3**2*m3*cos(q2) + 4*dc3*m3**2*cos(q3) + 8*dc3**2*m3**2*cos(q2) - 7*dc3*m3*cos(q2 + q3) + 8*I3zz*m3*cos(q2) - 8*dc3**2*m3**2*cos(q2 + q3)**2 - 4*dc3*m3**2*cos(q2 + q3)*cos(q2) + 4*dc3*m3**2*cos(q2)*cos(q3) - 8*dc3**2*m3**2*cos(q2 + q3)*cos(q3) - 6*dc3*m3*cos(q2 + q3)*cos(q2) + 6*dc3*m3*cos(q2)*cos(q3)))/(36*I3zz*cos(q2)**2 - 104*I3zz*m3 - 16*I3zz*m3**2 - 133*dc3**2*m3 - 133*I3zz - 104*dc3**2*m3**2 - 16*dc3**2*m3**3 + 48*dc3**2*m3**2*cos(q2)**2 + 76*dc3**2*m3**2*cos(q3)**2 + 16*dc3**2*m3**3*cos(q2)**2 + 16*dc3**2*m3**3*cos(q3)**2 + 48*I3zz*m3*cos(q2)**2 + 16*I3zz*m3**2*cos(q2)**2 + 36*dc3**2*m3*cos(q2)**2 + 28*dc3**2*m3**2*cos(q2 + q3)**2 + 16*dc3**2*m3**3*cos(q2 + q3)**2 - 48*dc3**2*m3**2*cos(q2 + q3)*cos(q2)*cos(q3) - 32*dc3**2*m3**3*cos(q2 + q3)*cos(q2)*cos(q3)) - (8*(12*I3zz*cos(q2) - 4*dc3*m3**2*cos(q2 + q3) + 12*dc3**2*m3*cos(q2) + 8*dc3**2*m3**2*cos(q2) - 7*dc3*m3*cos(q2 + q3) + 8*I3zz*m3*cos(q2) + 4*dc3*m3**2*cos(q2)*cos(q3) - 8*dc3**2*m3**2*cos(q2 + q3)*cos(q3) + 6*dc3*m3*cos(q2)*cos(q3))*(u1 + (3*dq[1]**2*sin(q2))/8 + (3*dq[0]*dq[1]*sin(q2))/4 + (m3*dq[1]**2*sin(q2))/4 + (m3*dq[0]*dq[1]*sin(q2))/2 + (dc3*m3*dq[1]**2*sin(q2 + q3))/2 + (dc3*m3*dq[2]**2*sin(q2 + q3))/2 + (dc3*m3*dq[2]**2*sin(q3))/2 + dc3*m3*dq[0]*dq[1]*sin(q2 + q3) + dc3*m3*dq[0]*dq[2]*sin(q2 + q3) + dc3*m3*dq[1]*dq[2]*sin(q2 + q3) + dc3*m3*dq[0]*dq[2]*sin(q3) + dc3*m3*dq[1]*dq[2]*sin(q3)))/(36*I3zz*cos(q2)**2 - 104*I3zz*m3 - 16*I3zz*m3**2 - 133*dc3**2*m3 - 133*I3zz - 104*dc3**2*m3**2 - 16*dc3**2*m3**3 + 48*dc3**2*m3**2*cos(q2)**2 + 76*dc3**2*m3**2*cos(q3)**2 + 16*dc3**2*m3**3*cos(q2)**2 + 16*dc3**2*m3**3*cos(q3)**2 + 48*I3zz*m3*cos(q2)**2 + 16*I3zz*m3**2*cos(q2)**2 + 36*dc3**2*m3*cos(q2)**2 + 28*dc3**2*m3**2*cos(q2 + q3)**2 + 16*dc3**2*m3**3*cos(q2 + q3)**2 - 48*dc3**2*m3**2*cos(q2 + q3)*cos(q2)*cos(q3) - 32*dc3**2*m3**3*cos(q2 + q3)*cos(q2)*cos(q3)) - ((u3 - dc3*m3*((dq[0]**2*sin(q3))/2 + (dq[1]**2*sin(q3))/2 + (dq[0]**2*sin(q2 + q3))/2 + dq[0]*dq[1]*sin(q3)))*(304*I3zz + 104*m3 - 48*m3*cos(q2)**2 + 64*I3zz*m3 - 36*cos(q2)**2 - 16*m3**2*cos(q2)**2 + 304*dc3**2*m3 + 16*m3**2 + 64*dc3**2*m3**2 + 304*dc3*m3*cos(q3) + 64*dc3*m3**2*cos(q3) - 64*dc3**2*m3**2*cos(q2 + q3)**2 - 64*dc3*m3**2*cos(q2 + q3)*cos(q2) - 96*dc3*m3*cos(q2 + q3)*cos(q2) + 133))/(36*I3zz*cos(q2)**2 - 104*I3zz*m3 - 16*I3zz*m3**2 - 133*dc3**2*m3 - 133*I3zz - 104*dc3**2*m3**2 - 16*dc3**2*m3**3 + 48*dc3**2*m3**2*cos(q2)**2 + 76*dc3**2*m3**2*cos(q3)**2 + 16*dc3**2*m3**3*cos(q2)**2 + 16*dc3**2*m3**3*cos(q3)**2 + 48*I3zz*m3*cos(q2)**2 + 16*I3zz*m3**2*cos(q2)**2 + 36*dc3**2*m3*cos(q2)**2 + 28*dc3**2*m3**2*cos(q2 + q3)**2 + 16*dc3**2*m3**3*cos(q2 + q3)**2 - 48*dc3**2*m3**2*cos(q2 + q3)*cos(q2)*cos(q3) - 32*dc3**2*m3**3*cos(q2 + q3)*cos(q2)*cos(q3))\n",
        "\n",
        "    # 3R with gravity\n",
        "    (16*(u2 - (3*(dq[0]**2)*sin(q2))/8 - (m3*(dq[0]**2)*sin(q2))/4 - (dc3*m3*dq[0]**2*sin(q2 + q3))/2 + (dc3*m3*dq[2]**2*sin(q3))/2 + dc3*m3*dq[0]*dq[2]*sin(q3) + dc3*m3*dq[1]*dq[2]*sin(q3))*(7*I3zz + 4*I3zz*m3 + 6*I3zz*cos(q2) + 7*dc3**2*m3 + 4*dc3**2*m3**2 - 4*dc3**2*m3**2*cos(q3)**2 + 6*dc3**2*m3*cos(q2) + 4*dc3**2*m3**2*cos(q2) + 4*I3zz*m3*cos(q2) - 4*dc3**2*m3**2*cos(q2 + q3)*cos(q3)))/(36*I3zz*cos(q2)**2 - 104*I3zz*m3 - 16*I3zz*m3**2 - 133*dc3**2*m3 - 133*I3zz - 104*dc3**2*m3**2 - 16*dc3**2*m3**3 + 48*dc3**2*m3**2*cos(q2)**2 + 76*dc3**2*m3**2*cos(q3)**2 + 16*dc3**2*m3**3*cos(q2)**2 + 16*dc3**2*m3**3*cos(q3)**2 + 48*I3zz*m3*cos(q2)**2 + 16*I3zz*m3**2*cos(q2)**2 + 36*dc3**2*m3*cos(q2)**2 + 28*dc3**2*m3**2*cos(q2 + q3)**2 + 16*dc3**2*m3**3*cos(q2 + q3)**2 - 48*dc3**2*m3**2*cos(q2 + q3)*cos(q2)*cos(q3) - 32*dc3**2*m3**3*cos(q2 + q3)*cos(q2)*cos(q3)) - (16*(7*I3zz + 4*I3zz*m3 + 7*dc3**2*m3 + 4*dc3**2*m3**2 - 4*dc3**2*m3**2*cos(q3)**2)*(u1 + (3*dq[1]**2*sin(q2))/8 + (3*dq[0]*dq[1]*sin(q2))/4 + (m3*dq[1]**2*sin(q2))/4 + (m3*dq[0]*dq[1]*sin(q2))/2 + (dc3*m3*dq[1]**2*sin(q2 + q3))/2 + (dc3*m3*dq[2]**2*sin(q2 + q3))/2 + (dc3*m3*dq[2]**2*sin(q3))/2 + dc3*m3*dq[0]*dq[1]*sin(q2 + q3) + dc3*m3*dq[0]*dq[2]*sin(q2 + q3) + dc3*m3*dq[1]*dq[2]*sin(q2 + q3) + dc3*m3*dq[0]*dq[2]*sin(q3) + dc3*m3*dq[1]*dq[2]*sin(q3)))/(36*I3zz*cos(q2)**2 - 104*I3zz*m3 - 16*I3zz*m3**2 - 133*dc3**2*m3 - 133*I3zz - 104*dc3**2*m3**2 - 16*dc3**2*m3**3 + 48*dc3**2*m3**2*cos(q2)**2 + 76*dc3**2*m3**2*cos(q3)**2 + 16*dc3**2*m3**3*cos(q2)**2 + 16*dc3**2*m3**3*cos(q3)**2 + 48*I3zz*m3*cos(q2)**2 + 16*I3zz*m3**2*cos(q2)**2 + 36*dc3**2*m3*cos(q2)**2 + 28*dc3**2*m3**2*cos(q2 + q3)**2 + 16*dc3**2*m3**3*cos(q2 + q3)**2 - 48*dc3**2*m3**2*cos(q2 + q3)*cos(q2)*cos(q3) - 32*dc3**2*m3**3*cos(q2 + q3)*cos(q2)*cos(q3)) - (8*(u3 - dc3*m3*((dq[0]**2*sin(q3))/2 + (dq[1]**2*sin(q3))/2 + (dq[0]**2*sin(q2 + q3))/2 + dq[0]*dq[1]*sin(q3)))*(12*I3zz*cos(q2) - 4*dc3*m3**2*cos(q2 + q3) + 12*dc3**2*m3*cos(q2) + 8*dc3**2*m3**2*cos(q2) - 7*dc3*m3*cos(q2 + q3) + 8*I3zz*m3*cos(q2) + 4*dc3*m3**2*cos(q2)*cos(q3) - 8*dc3**2*m3**2*cos(q2 + q3)*cos(q3) + 6*dc3*m3*cos(q2)*cos(q3)))/(36*I3zz*cos(q2)**2 - 104*I3zz*m3 - 16*I3zz*m3**2 - 133*dc3**2*m3 - 133*I3zz - 104*dc3**2*m3**2 - 16*dc3**2*m3**3 + 48*dc3**2*m3**2*cos(q2)**2 + 76*dc3**2*m3**2*cos(q3)**2 + 16*dc3**2*m3**3*cos(q2)**2 + 16*dc3**2*m3**3*cos(q3)**2 + 48*I3zz*m3*cos(q2)**2 + 16*I3zz*m3**2*cos(q2)**2 + 36*dc3**2*m3*cos(q2)**2 + 28*dc3**2*m3**2*cos(q2 + q3)**2 + 16*dc3**2*m3**3*cos(q2 + q3)**2 - 48*dc3**2*m3**2*cos(q2 + q3)*cos(q2)*cos(q3) - 32*dc3**2*m3**3*cos(q2 + q3)*cos(q2)*cos(q3))-(8829*I3zz*cos(q1 + 2*q2) - 52974*I3zz*cos(q1) + 11772*I3zz*m3*cos(q1 + 2*q2) - 3924*I3zz*m3**2*cos(q1) - 52974*dc3**2*m3*cos(q1) + 3924*I3zz*m3**2*cos(q1 + 2*q2) + 8829*dc3**2*m3*cos(q1 + 2*q2) - 18639*dc3**2*m3**2*cos(q1) + 981*dc3**2*m3**2*cos(q1 + 2*q2 + 2*q3) - 37278*I3zz*m3*cos(q1) + 5886*dc3**2*m3**2*cos(q1 + 2*q2) + 5886*dc3**2*m3**2*cos(q1 - 2*q3) + 5886*dc3**2*m3**2*cos(q1 + 2*q3))/(25*(18*I3zz*cos(2*q2) - 80*I3zz*m3 - 8*I3zz*m3**2 - 115*dc3**2*m3 - 115*I3zz - 40*dc3**2*m3**2 + 12*dc3**2*m3**2*cos(2*q2) + 26*dc3**2*m3**2*cos(2*q3) + 24*I3zz*m3*cos(2*q2) + 2*dc3**2*m3**2*cos(2*q2 + 2*q3) + 8*I3zz*m3**2*cos(2*q2) + 18*dc3**2*m3*cos(2*q2))),\n",
        "    (8*(u3 - dc3*m3*((dq[0]**2*sin(q3))/2 + (dq[1]**2*sin(q3))/2 + (dq[0]**2*sin(q2 + q3))/2 + dq[0]*dq[1]*sin(q3)))*(38*I3zz + 8*I3zz*m3 + 12*I3zz*cos(q2) + 38*dc3**2*m3 + 8*dc3**2*m3**2 + 19*dc3*m3*cos(q3) - 4*dc3*m3**2*cos(q2 + q3) + 12*dc3**2*m3*cos(q2) + 4*dc3*m3**2*cos(q3) + 8*dc3**2*m3**2*cos(q2) - 7*dc3*m3*cos(q2 + q3) + 8*I3zz*m3*cos(q2) - 8*dc3**2*m3**2*cos(q2 + q3)**2 - 4*dc3*m3**2*cos(q2 + q3)*cos(q2) + 4*dc3*m3**2*cos(q2)*cos(q3) - 8*dc3**2*m3**2*cos(q2 + q3)*cos(q3) - 6*dc3*m3*cos(q2 + q3)*cos(q2) + 6*dc3*m3*cos(q2)*cos(q3)))/(36*I3zz*cos(q2)**2 - 104*I3zz*m3 - 16*I3zz*m3**2 - 133*dc3**2*m3 - 133*I3zz - 104*dc3**2*m3**2 - 16*dc3**2*m3**3 + 48*dc3**2*m3**2*cos(q2)**2 + 76*dc3**2*m3**2*cos(q3)**2 + 16*dc3**2*m3**3*cos(q2)**2 + 16*dc3**2*m3**3*cos(q3)**2 + 48*I3zz*m3*cos(q2)**2 + 16*I3zz*m3**2*cos(q2)**2 + 36*dc3**2*m3*cos(q2)**2 + 28*dc3**2*m3**2*cos(q2 + q3)**2 + 16*dc3**2*m3**3*cos(q2 + q3)**2 - 48*dc3**2*m3**2*cos(q2 + q3)*cos(q2)*cos(q3) - 32*dc3**2*m3**3*cos(q2 + q3)*cos(q2)*cos(q3)) + (16*(7*I3zz + 4*I3zz*m3 + 6*I3zz*cos(q2) + 7*dc3**2*m3 + 4*dc3**2*m3**2 - 4*dc3**2*m3**2*cos(q3)**2 + 6*dc3**2*m3*cos(q2) + 4*dc3**2*m3**2*cos(q2) + 4*I3zz*m3*cos(q2) - 4*dc3**2*m3**2*cos(q2 + q3)*cos(q3))*(u1 + (3*dq[1]**2*sin(q2))/8 + (3*dq[0]*dq[1]*sin(q2))/4 + (m3*dq[1]**2*sin(q2))/4 + (m3*dq[0]*dq[1]*sin(q2))/2 + (dc3*m3*dq[1]**2*sin(q2 + q3))/2 + (dc3*m3*dq[2]**2*sin(q2 + q3))/2 + (dc3*m3*dq[2]**2*sin(q3))/2 + dc3*m3*dq[0]*dq[1]*sin(q2 + q3) + dc3*m3*dq[0]*dq[2]*sin(q2 + q3) + dc3*m3*dq[1]*dq[2]*sin(q2 + q3) + dc3*m3*dq[0]*dq[2]*sin(q3) + dc3*m3*dq[1]*dq[2]*sin(q3)))/(36*I3zz*cos(q2)**2 - 104*I3zz*m3 - 16*I3zz*m3**2 - 133*dc3**2*m3 - 133*I3zz - 104*dc3**2*m3**2 - 16*dc3**2*m3**3 + 48*dc3**2*m3**2*cos(q2)**2 + 76*dc3**2*m3**2*cos(q3)**2 + 16*dc3**2*m3**3*cos(q2)**2 + 16*dc3**2*m3**3*cos(q3)**2 + 48*I3zz*m3*cos(q2)**2 + 16*I3zz*m3**2*cos(q2)**2 + 36*dc3**2*m3*cos(q2)**2 + 28*dc3**2*m3**2*cos(q2 + q3)**2 + 16*dc3**2*m3**3*cos(q2 + q3)**2 - 48*dc3**2*m3**2*cos(q2 + q3)*cos(q2)*cos(q3) - 32*dc3**2*m3**3*cos(q2 + q3)*cos(q2)*cos(q3)) - (32*(u2 - (3*dq[0]**2*sin(q2))/8 - (m3*dq[0]**2*sin(q2))/4 - (dc3*m3*dq[0]**2*sin(q2 + q3))/2 + (dc3*m3*dq[2]**2*sin(q3))/2 + dc3*m3*dq[0]*dq[2]*sin(q3) + dc3*m3*dq[1]*dq[2]*sin(q3))*(13*I3zz + 4*I3zz*m3 + 6*I3zz*cos(q2) + 13*dc3**2*m3 + 4*dc3**2*m3**2 - 2*dc3**2*m3**2*cos(q3)**2 + 6*dc3**2*m3*cos(q2) + 4*dc3**2*m3**2*cos(q2) + 4*I3zz*m3*cos(q2) - 2*dc3**2*m3**2*cos(q2 + q3)**2 - 4*dc3**2*m3**2*cos(q2 + q3)*cos(q3)))/(36*I3zz*cos(q2)**2 - 104*I3zz*m3 - 16*I3zz*m3**2 - 133*dc3**2*m3 - 133*I3zz - 104*dc3**2*m3**2 - 16*dc3**2*m3**3 + 48*dc3**2*m3**2*cos(q2)**2 + 76*dc3**2*m3**2*cos(q3)**2 + 16*dc3**2*m3**3*cos(q2)**2 + 16*dc3**2*m3**3*cos(q3)**2 + 48*I3zz*m3*cos(q2)**2 + 16*I3zz*m3**2*cos(q2)**2 + 36*dc3**2*m3*cos(q2)**2 + 28*dc3**2*m3**2*cos(q2 + q3)**2 + 16*dc3**2*m3**3*cos(q2 + q3)**2 - 48*dc3**2*m3**2*cos(q2 + q3)*cos(q2)*cos(q3) - 32*dc3**2*m3**3*cos(q2 + q3)*cos(q2)*cos(q3))+(29430*I3zz*cos(q1 + q2) - 52974*I3zz*cos(q1) - 26487*I3zz*cos(q1 - q2) + 8829*I3zz*cos(q1 + 2*q2) - 23544*I3zz*m3*cos(q1 - q2) + 11772*I3zz*m3*cos(q1 + 2*q2) + 3924*I3zz*m3**2*cos(q1 + q2) + 29430*dc3**2*m3*cos(q1 + q2) - 3924*I3zz*m3**2*cos(q1) - 52974*dc3**2*m3*cos(q1) - 6867*dc3**2*m3**2*cos(q1 + q2 + 2*q3) - 3924*I3zz*m3**2*cos(q1 - q2) + 3924*I3zz*m3**2*cos(q1 + 2*q2) - 26487*dc3**2*m3*cos(q1 - q2) + 8829*dc3**2*m3*cos(q1 + 2*q2) + 12753*dc3**2*m3**2*cos(q1 + q2) + 25506*I3zz*m3*cos(q1 + q2) - 18639*dc3**2*m3**2*cos(q1) + 5886*dc3**2*m3**2*cos(q2 - q1 + 2*q3) + 981*dc3**2*m3**2*cos(q1 + 2*q2 + 2*q3) - 37278*I3zz*m3*cos(q1) - 11772*dc3**2*m3**2*cos(q1 - q2) + 5886*dc3**2*m3**2*cos(q1 + 2*q2) + 5886*dc3**2*m3**2*cos(q1 - 2*q3) + 5886*dc3**2*m3**2*cos(q1 + 2*q3))/(25*(18*I3zz*cos(2*q2) - 80*I3zz*m3 - 8*I3zz*m3**2 - 115*dc3**2*m3 - 115*I3zz - 40*dc3**2*m3**2 + 12*dc3**2*m3**2*cos(2*q2) + 26*dc3**2*m3**2*cos(2*q3) + 24*I3zz*m3*cos(2*q2) + 2*dc3**2*m3**2*cos(2*q2 + 2*q3) + 8*I3zz*m3**2*cos(2*q2) + 18*dc3**2*m3*cos(2*q2))),\n",
        "    (8*(u2 - (3*dq[0]**2*sin(q2))/8 - (m3*dq[0]**2*sin(q2))/4 - (dc3*m3*dq[0]**2*sin(q2 + q3))/2 + (dc3*m3*dq[2]**2*sin(q3))/2 + dc3*m3*dq[0]*dq[2]*sin(q3) + dc3*m3*dq[1]*dq[2]*sin(q3))*(38*I3zz + 8*I3zz*m3 + 12*I3zz*cos(q2) + 38*dc3**2*m3 + 8*dc3**2*m3**2 + 19*dc3*m3*cos(q3) - 4*dc3*m3**2*cos(q2 + q3) + 12*dc3**2*m3*cos(q2) + 4*dc3*m3**2*cos(q3) + 8*dc3**2*m3**2*cos(q2) - 7*dc3*m3*cos(q2 + q3) + 8*I3zz*m3*cos(q2) - 8*dc3**2*m3**2*cos(q2 + q3)**2 - 4*dc3*m3**2*cos(q2 + q3)*cos(q2) + 4*dc3*m3**2*cos(q2)*cos(q3) - 8*dc3**2*m3**2*cos(q2 + q3)*cos(q3) - 6*dc3*m3*cos(q2 + q3)*cos(q2) + 6*dc3*m3*cos(q2)*cos(q3)))/(36*I3zz*cos(q2)**2 - 104*I3zz*m3 - 16*I3zz*m3**2 - 133*dc3**2*m3 - 133*I3zz - 104*dc3**2*m3**2 - 16*dc3**2*m3**3 + 48*dc3**2*m3**2*cos(q2)**2 + 76*dc3**2*m3**2*cos(q3)**2 + 16*dc3**2*m3**3*cos(q2)**2 + 16*dc3**2*m3**3*cos(q3)**2 + 48*I3zz*m3*cos(q2)**2 + 16*I3zz*m3**2*cos(q2)**2 + 36*dc3**2*m3*cos(q2)**2 + 28*dc3**2*m3**2*cos(q2 + q3)**2 + 16*dc3**2*m3**3*cos(q2 + q3)**2 - 48*dc3**2*m3**2*cos(q2 + q3)*cos(q2)*cos(q3) - 32*dc3**2*m3**3*cos(q2 + q3)*cos(q2)*cos(q3)) - (8*(12*I3zz*cos(q2) - 4*dc3*m3**2*cos(q2 + q3) + 12*dc3**2*m3*cos(q2) + 8*dc3**2*m3**2*cos(q2) - 7*dc3*m3*cos(q2 + q3) + 8*I3zz*m3*cos(q2) + 4*dc3*m3**2*cos(q2)*cos(q3) - 8*dc3**2*m3**2*cos(q2 + q3)*cos(q3) + 6*dc3*m3*cos(q2)*cos(q3))*(u1 + (3*dq[1]**2*sin(q2))/8 + (3*dq[0]*dq[1]*sin(q2))/4 + (m3*dq[1]**2*sin(q2))/4 + (m3*dq[0]*dq[1]*sin(q2))/2 + (dc3*m3*dq[1]**2*sin(q2 + q3))/2 + (dc3*m3*dq[2]**2*sin(q2 + q3))/2 + (dc3*m3*dq[2]**2*sin(q3))/2 + dc3*m3*dq[0]*dq[1]*sin(q2 + q3) + dc3*m3*dq[0]*dq[2]*sin(q2 + q3) + dc3*m3*dq[1]*dq[2]*sin(q2 + q3) + dc3*m3*dq[0]*dq[2]*sin(q3) + dc3*m3*dq[1]*dq[2]*sin(q3)))/(36*I3zz*cos(q2)**2 - 104*I3zz*m3 - 16*I3zz*m3**2 - 133*dc3**2*m3 - 133*I3zz - 104*dc3**2*m3**2 - 16*dc3**2*m3**3 + 48*dc3**2*m3**2*cos(q2)**2 + 76*dc3**2*m3**2*cos(q3)**2 + 16*dc3**2*m3**3*cos(q2)**2 + 16*dc3**2*m3**3*cos(q3)**2 + 48*I3zz*m3*cos(q2)**2 + 16*I3zz*m3**2*cos(q2)**2 + 36*dc3**2*m3*cos(q2)**2 + 28*dc3**2*m3**2*cos(q2 + q3)**2 + 16*dc3**2*m3**3*cos(q2 + q3)**2 - 48*dc3**2*m3**2*cos(q2 + q3)*cos(q2)*cos(q3) - 32*dc3**2*m3**3*cos(q2 + q3)*cos(q2)*cos(q3)) - ((u3 - dc3*m3*((dq[0]**2*sin(q3))/2 + (dq[1]**2*sin(q3))/2 + (dq[0]**2*sin(q2 + q3))/2 + dq[0]*dq[1]*sin(q3)))*(304*I3zz + 104*m3 - 48*m3*cos(q2)**2 + 64*I3zz*m3 - 36*cos(q2)**2 - 16*m3**2*cos(q2)**2 + 304*dc3**2*m3 + 16*m3**2 + 64*dc3**2*m3**2 + 304*dc3*m3*cos(q3) + 64*dc3*m3**2*cos(q3) - 64*dc3**2*m3**2*cos(q2 + q3)**2 - 64*dc3*m3**2*cos(q2 + q3)*cos(q2) - 96*dc3*m3*cos(q2 + q3)*cos(q2) + 133))/(36*I3zz*cos(q2)**2 - 104*I3zz*m3 - 16*I3zz*m3**2 - 133*dc3**2*m3 - 133*I3zz - 104*dc3**2*m3**2 - 16*dc3**2*m3**3 + 48*dc3**2*m3**2*cos(q2)**2 + 76*dc3**2*m3**2*cos(q3)**2 + 16*dc3**2*m3**3*cos(q2)**2 + 16*dc3**2*m3**3*cos(q3)**2 + 48*I3zz*m3*cos(q2)**2 + 16*I3zz*m3**2*cos(q2)**2 + 36*dc3**2*m3*cos(q2)**2 + 28*dc3**2*m3**2*cos(q2 + q3)**2 + 16*dc3**2*m3**3*cos(q2 + q3)**2 - 48*dc3**2*m3**2*cos(q2 + q3)*cos(q2)*cos(q3) - 32*dc3**2*m3**3*cos(q2 + q3)*cos(q2)*cos(q3))-(11772*I3zz*cos(q1)*cos(q2) - 223668*I3zz*sin(q1)*sin(q2) + 11772*dc3**2*m3*cos(q1)*cos(q2) - 31392*I3zz*m3**2*sin(q1)*sin(q2) - 223668*dc3**2*m3*sin(q1)*sin(q2) + 3924*dc3**2*m3**2*cos(q1)*cos(q2) - 98100*dc3**2*m3**2*sin(q1)*sin(q2) + 7848*I3zz*m3*cos(q1)*cos(q2) - 196200*I3zz*m3*sin(q1)*sin(q2) + 3924*dc3*m3**2*cos(q1)*sin(q2)*sin(q3) + 54936*dc3*m3**2*cos(q2)*sin(q1)*sin(q3) + 3924*dc3*m3**2*cos(q3)*sin(q1)*sin(q2) - 981*dc3*m3*cos(q1)*cos(q2)*cos(q3) - 3924*dc3**2*m3**2*cos(2*q3)*cos(q1)*cos(q2) + 6867*dc3*m3*cos(q1)*sin(q2)*sin(q3) + 95157*dc3*m3*cos(q2)*sin(q1)*sin(q3) + 18639*dc3*m3*cos(q3)*sin(q1)*sin(q2) + 51012*dc3**2*m3**2*cos(2*q3)*sin(q1)*sin(q2) + 3924*dc3**2*m3**2*sin(2*q3)*cos(q1)*sin(q2) + 51012*dc3**2*m3**2*sin(2*q3)*cos(q2)*sin(q1))/(100*(18*I3zz*cos(2*q2) - 80*I3zz*m3 - 8*I3zz*m3**2 - 115*dc3**2*m3 - 115*I3zz - 40*dc3**2*m3**2 + 12*dc3**2*m3**2*cos(2*q2) + 26*dc3**2*m3**2*cos(2*q3) + 24*I3zz*m3*cos(2*q2) + 2*dc3**2*m3**2*cos(2*q2 + 2*q3) + 8*I3zz*m3**2*cos(2*q2) + 18*dc3**2*m3*cos(2*q2)))\n",
        "\n",
        " \n",
        ")\n",
        "\n",
        " \n",
        "# Right-hand side of the dynamic evolution\n",
        "model.set_rhs('q1', dq[0])\n",
        "model.set_rhs('q2', dq[1])\n",
        "model.set_rhs('q3', dq[2])\n",
        "model.set_rhs('dq', dq_next)\n",
        "\n",
        "model.setup()"
      ]
    },
    {
      "cell_type": "markdown",
      "source": [
        "##MPC definition"
      ],
      "metadata": {
        "id": "BIzHXe8Oo6ja"
      }
    },
    {
      "cell_type": "code",
      "execution_count": null,
      "metadata": {
        "id": "H4a5ZfJXzhqQ"
      },
      "outputs": [],
      "source": [
        "mpc = do_mpc.controller.MPC(model)\n",
        "\n",
        "\n",
        "setup_mpc = {\n",
        "    'n_horizon': 30,\n",
        "    't_step': 0.1,\n",
        "    'n_robust': 1,\n",
        "    'store_full_solution': True,\n",
        "}\n",
        "\n",
        "mpc.set_param(**setup_mpc)\n",
        "\n",
        "qdes = np.pi*np.array([0.5, 0, 0, 0, 0, 0])\n",
        "Q = np.diag(np.array([1,1,1,0.1,0.1,0.1]))\n",
        "mterm = 100*((q1-qdes[0])**2 + (q2-qdes[1])**2 + (q3-qdes[2])**2) + 50*((dq[0]-qdes[3])**2 + (dq[1]-qdes[4])**2 + (dq[2]-qdes[5])**2)\n",
        "lterm = 100*((q1-qdes[0])**2 + (q2-qdes[1])**2 + (q3-qdes[2])**2) + 50*((dq[0]-qdes[3])**2 + (dq[1]-qdes[4])**2 + (dq[2]-qdes[5])**2)\n",
        "mpc.set_objective(mterm=mterm, lterm=lterm)\n",
        "\n",
        "R = (1e-2)*np.eye(3)\n",
        "mpc.set_rterm(\n",
        "    u1=1e-5,\n",
        "    u2=1e-5,\n",
        "    u3=1e-5,\n",
        ")\n",
        "\n",
        "\n",
        "\n",
        "# constraints\n",
        "# Lower bounds on states:\n",
        "mpc.bounds['lower','_x', 'q1'] = -np.pi\n",
        "mpc.bounds['lower','_x', 'q2'] = -np.pi\n",
        "mpc.bounds['lower','_x', 'q3'] = -np.pi\n",
        "# Upper bounds on states\n",
        "mpc.bounds['upper','_x', 'q1'] = np.pi\n",
        "mpc.bounds['upper','_x', 'q2'] = np.pi\n",
        "mpc.bounds['upper','_x', 'q3'] = np.pi\n",
        "\n",
        "# Lower bounds on inputs:\n",
        "mpc.bounds['lower','_u', 'u1'] = -100\n",
        "mpc.bounds['lower','_u', 'u2'] = -100\n",
        "mpc.bounds['lower','_u', 'u3'] = -100\n",
        "# Lower bounds on inputs:\n",
        "mpc.bounds['upper','_u', 'u1'] = 100\n",
        "mpc.bounds['upper','_u', 'u2'] = 100\n",
        "mpc.bounds['upper','_u', 'u3'] = 100\n",
        "\n",
        "mpc.scaling['_x', 'q1'] = 1\n",
        "mpc.scaling['_x', 'q2'] = 1\n",
        "mpc.scaling['_x', 'q3'] = 1\n",
        "mpc.scaling['_u', 'u1'] = 1\n",
        "mpc.scaling['_u', 'u2'] = 1\n",
        "mpc.scaling['_u', 'u3'] = 1\n",
        "\n",
        "# unceartain parameters\n",
        "mass_payload = np.array([1.0, 0.3, 0.5, 0.7, 1.2])\n",
        "\n",
        "\n",
        "mpc.set_uncertainty_values(\n",
        "    m_p = mass_payload\n",
        ")\n",
        "\n",
        "mpc.setup()"
      ]
    },
    {
      "cell_type": "markdown",
      "source": [
        "###State and Input bounds with model uncertainties"
      ],
      "metadata": {
        "id": "f5IfmSlZpAX_"
      }
    },
    {
      "cell_type": "code",
      "execution_count": null,
      "metadata": {
        "id": "3SBq_Ox6dlEC"
      },
      "outputs": [],
      "source": [
        "mpc0 = do_mpc.controller.MPC(model)\n",
        "setup_mpc0 = {\n",
        "    'n_horizon': 30,\n",
        "    't_step': 0.1,\n",
        "    'n_robust': 1,\n",
        "    'store_full_solution': True,\n",
        "}\n",
        "mpc0.set_param(**setup_mpc0)\n",
        "mpc0.set_objective(mterm=mterm, lterm=lterm)\n",
        "mpc0.set_rterm(\n",
        "    u1=1e-5,\n",
        "    u2=1e-5,\n",
        "    u3=1e-5,\n",
        ")\n",
        "# constraints\n",
        "# Lower bounds on states:\n",
        "mpc0.bounds['lower','_x', 'q1'] = -np.pi\n",
        "mpc0.bounds['lower','_x', 'q2'] = -np.pi\n",
        "mpc0.bounds['lower','_x', 'q3'] = -np.pi\n",
        "# Upper bounds on states\n",
        "mpc0.bounds['upper','_x', 'q1'] = np.pi\n",
        "mpc0.bounds['upper','_x', 'q2'] = np.pi\n",
        "mpc0.bounds['upper','_x', 'q3'] = np.pi\n",
        "\n",
        "# Lower bounds on inputs:\n",
        "mpc0.bounds['lower','_u', 'u1'] = -100\n",
        "mpc0.bounds['lower','_u', 'u2'] = -100\n",
        "mpc0.bounds['lower','_u', 'u3'] = -100\n",
        "# Lower bounds on inputs:\n",
        "mpc0.bounds['upper','_u', 'u1'] = 100\n",
        "mpc0.bounds['upper','_u', 'u2'] = 100\n",
        "mpc0.bounds['upper','_u', 'u3'] = 100\n",
        "\n",
        "mpc0.scaling['_x', 'q1'] = 1\n",
        "mpc0.scaling['_x', 'q2'] = 1\n",
        "mpc0.scaling['_x', 'q3'] = 1\n",
        "mpc0.scaling['_u', 'u1'] = 1\n",
        "mpc0.scaling['_u', 'u2'] = 1\n",
        "mpc0.scaling['_u', 'u3'] = 1\n",
        "\n",
        "# unceartain parameters\n",
        "mass_payload = np.array([1.0])\n",
        "\n",
        "\n",
        "mpc0.set_uncertainty_values(\n",
        "    m_p = mass_payload\n",
        ")\n",
        "\n",
        "mpc0.setup()\n"
      ]
    },
    {
      "cell_type": "markdown",
      "source": [
        "##Simulator definition"
      ],
      "metadata": {
        "id": "hry1_nXmpPYS"
      }
    },
    {
      "cell_type": "code",
      "execution_count": null,
      "metadata": {
        "id": "mFhws1R70SMe"
      },
      "outputs": [],
      "source": [
        "#### Simulator part\n",
        "####\n",
        "\n",
        "simulator = do_mpc.simulator.Simulator(model)\n",
        "simulator.set_param(t_step = 0.1)\n",
        "p_template = simulator.get_p_template()\n",
        "def p_fun(t_now):\n",
        "    p_template['m_p'] = 0.0\n",
        "    return p_template\n",
        "simulator.set_p_fun(p_fun)\n",
        "simulator.setup()\n",
        "\n",
        "# Creating the control loop\n",
        "x0 = np.pi*np.array([0.5, 0, -0.5, 0, 0, 0]).reshape(-1,1)\n",
        "simulator.x0 = x0\n",
        "mpc.x0 = x0\n",
        "mpc.set_initial_guess()\n",
        "mpc0.x0 = x0\n",
        "mpc0.set_initial_guess()\n"
      ]
    },
    {
      "cell_type": "markdown",
      "source": [
        "##Graphical settings"
      ],
      "metadata": {
        "id": "mMdc2194pU8G"
      }
    },
    {
      "cell_type": "code",
      "execution_count": null,
      "metadata": {
        "id": "5idtndLD0YFl"
      },
      "outputs": [],
      "source": [
        "%%capture\n",
        "# Setting up the graphics\n",
        "import matplotlib.pyplot as plt\n",
        "import matplotlib as mpl\n",
        "# Customizing Matplotlib:\n",
        "mpl.rcParams['font.size'] = 18\n",
        "mpl.rcParams['lines.linewidth'] = 3\n",
        "mpl.rcParams['axes.grid'] = True\n",
        "\n",
        "mpc_graphics = do_mpc.graphics.Graphics(mpc.data)\n",
        "sim_graphics = do_mpc.graphics.Graphics(simulator.data)\n",
        "\n",
        "# We just want to create the plot and not show it right now. This \"inline magic\" supresses the output.\n",
        "fig, ax = plt.subplots(2, sharex=True, figsize=(16,9))\n",
        "fig.align_ylabels()\n",
        "\n",
        "for g in [sim_graphics, mpc_graphics]:\n",
        "    # Plot the angle positions (q1, q2, q2) on the first axis:\n",
        "    g.add_line(var_type='_x', var_name='q1', axis=ax[0])\n",
        "    g.add_line(var_type='_x', var_name='q2', axis=ax[0])\n",
        "    g.add_line(var_type='_x', var_name='q3', axis=ax[0])\n",
        "\n",
        "    # Plot the set torques (u1, u2) on the second axis:\n",
        "    g.add_line(var_type='_u', var_name='u1', axis=ax[1])\n",
        "    g.add_line(var_type='_u', var_name='u2', axis=ax[1])\n",
        "    g.add_line(var_type='_u', var_name='u3', axis=ax[1])\n",
        "\n",
        "\n",
        "ax[0].set_ylabel('angle position [rad]')\n",
        "ax[0].set_yticks([-2, -1.5, -1, -0.5, 0, 0.5, 1., 1.5, 2.0])\n",
        "ax[1].set_ylabel('torque [Nm]')\n",
        "ax[1].set_xlabel('time [s]')"
      ]
    },
    {
      "cell_type": "markdown",
      "source": [
        "##Simulation"
      ],
      "metadata": {
        "id": "MjJtNjospdJx"
      }
    },
    {
      "cell_type": "code",
      "execution_count": null,
      "metadata": {
        "id": "PEnvV5iU0hsu"
      },
      "outputs": [],
      "source": [
        "%%capture\n",
        "x0 = np.pi*np.array([-0.5, 0, 0, 0, 0, 0]).reshape(-1,1)\n",
        "simulator.reset_history()\n",
        "simulator.x0 = x0\n",
        "mpc0.reset_history()\n",
        "mpc0.x0 = x0\n",
        "# Running the simulation\n",
        "for i in range(100):\n",
        "    u0 = mpc0.make_step(x0)\n",
        "    x0 = simulator.make_step(u0)"
      ]
    },
    {
      "cell_type": "code",
      "source": [
        "sim_graphics.plot_results()\n",
        "# Reset the limits on all axes in graphic to show the data.\n",
        "sim_graphics.reset_axes()\n",
        "# Show the figure:\n",
        "lines = sim_graphics.result_lines['_x', 'q1']+sim_graphics.result_lines['_x', 'q2']+sim_graphics.result_lines['_x', 'q3']\n",
        "\n",
        "ax[0].legend(lines,['q1','q2','q3'],title='Joint')\n",
        "\n",
        "# also set legend for second subplot:\n",
        "lines = sim_graphics.result_lines['_u', 'u1']+sim_graphics.result_lines['_u', 'u2']+sim_graphics.result_lines['_u', 'u3']\n",
        "ax[1].legend(lines,['u1','u2','u3'],title='Torque')\n",
        "fig"
      ],
      "metadata": {
        "colab": {
          "base_uri": "https://localhost:8080/",
          "height": 370
        },
        "id": "-k-YVOAVg8e0",
        "outputId": "3db985b4-c43f-4722-9091-7413a6fe4c59"
      },
      "execution_count": null,
      "outputs": [
        {
          "output_type": "execute_result",
          "data": {
            "text/plain": [
              "<Figure size 1152x648 with 2 Axes>"
            ],
            "image/png": "[encoded data removed]"
          },
          "metadata": {},
          "execution_count": 31
        }
      ]
    },
    {
      "cell_type": "code",
      "source": [
        "print(mpc0.data['_x'])"
      ],
      "metadata": {
        "colab": {
          "base_uri": "https://localhost:8080/"
        },
        "id": "wZUT2_xVsHMQ",
        "outputId": "eced4f6c-57eb-4ffa-8e8a-aedbbc3793cf"
      },
      "execution_count": null,
      "outputs": [
        {
          "output_type": "stream",
          "name": "stdout",
          "text": [
            "[[-1.57079633e+00  0.00000000e+00  0.00000000e+00  0.00000000e+00\n",
            "   0.00000000e+00  0.00000000e+00]\n",
            " [-1.47143162e+00 -7.17050245e-02  3.99198050e-02  1.92209077e+00\n",
            "  -1.30620158e+00  7.20291267e-01]\n",
            " [-1.23068090e+00 -1.87402198e-01  1.53165153e-01  2.72909954e+00\n",
            "  -6.75030764e-01  1.30272333e+00]\n",
            " [-9.10471892e-01 -2.45606268e-01  2.92513815e-01  3.49532019e+00\n",
            "  -1.24378666e-01  1.15757165e+00]\n",
            " [-5.68320529e-01 -2.63954982e-01  3.03180422e-01  3.32458134e+00\n",
            "  -3.26495972e-01 -7.77762246e-01]\n",
            " [-2.63825593e-01 -2.81866691e-01  3.18278012e-01  2.75362795e+00\n",
            "  -7.03909436e-02  1.15720885e+00]\n",
            " [-6.28846270e-03 -2.73766676e-01  3.03061255e-01  2.44550880e+00\n",
            "   5.86482894e-02 -1.27412991e+00]\n",
            " [ 2.12107777e-01 -2.56926327e-01  3.04540650e-01  1.95540422e+00\n",
            "   2.03892380e-01  1.36536612e+00]\n",
            " [ 3.95880492e-01 -2.20390734e-01  2.61298845e-01  1.77331577e+00\n",
            "   3.94768103e-01 -2.11098171e+00]\n",
            " [ 5.51951191e-01 -1.87499948e-01  2.58675668e-01  1.37899023e+00\n",
            "   2.28353155e-01  2.07158529e+00]\n",
            " [ 6.84476772e-01 -1.41729809e-01  1.92065433e-01  1.30236833e+00\n",
            "   6.34313515e-01 -3.37086979e+00]\n",
            " [ 7.98390960e-01 -1.12349924e-01  2.06776812e-01  9.94797624e-01\n",
            "  -4.16781595e-02  3.64144857e+00]\n",
            " [ 8.97055872e-01 -7.04667345e-02  1.16807105e-01  9.89847019e-01\n",
            "   8.87176238e-01 -5.48064276e+00]\n",
            " [ 9.80250620e-01 -5.75684639e-02  1.63165639e-01  6.87009625e-01\n",
            "  -6.13331551e-01  6.37772721e+00]\n",
            " [ 1.05390414e+00 -2.57589556e-02  5.19729553e-02  7.89081254e-01\n",
            "   1.28717602e+00 -8.69392133e+00]\n",
            " [ 1.10266730e+00 -3.32622867e-02  9.88744080e-02  1.97500266e-01\n",
            "  -1.44450726e+00  9.63430981e+00]\n",
            " [ 1.14649986e+00 -2.01866419e-02  1.89983549e-02  6.80073588e-01\n",
            "   1.73439011e+00 -1.13070693e+01]\n",
            " [ 1.17186394e+00 -2.94828581e-02  5.42033704e-02 -1.66842353e-01\n",
            "  -1.93145691e+00  1.20266022e+01]\n",
            " [ 1.19531924e+00 -2.54900330e-02 -4.32057023e-03  6.32470412e-01\n",
            "   2.03667005e+00 -1.32521731e+01]\n",
            " [ 1.20380500e+00 -3.37954100e-02  1.62357707e-02 -4.61661520e-01\n",
            "  -2.20912086e+00  1.36776681e+01]\n",
            " [ 1.21226370e+00 -3.47787850e-02 -1.85049812e-02  6.24742575e-01\n",
            "   2.20978512e+00 -1.44044161e+01]\n",
            " [ 1.21150313e+00 -4.09902427e-02 -9.06174188e-03 -6.41085514e-01\n",
            "  -2.33421761e+00  1.45996733e+01]\n",
            " [ 1.21147451e+00 -4.39934491e-02 -2.55380677e-02  6.34880657e-01\n",
            "   2.28827056e+00 -1.49453360e+01]\n",
            " [ 1.20707154e+00 -4.87411288e-02 -2.22242971e-02 -7.24452783e-01\n",
            "  -2.38021421e+00  1.50117906e+01]\n",
            " [ 1.20349118e+00 -5.22378331e-02 -2.72413156e-02  6.49185121e-01\n",
            "   2.31839592e+00 -1.51191342e+01]\n",
            " [ 1.19864778e+00 -5.58729970e-02 -2.64535430e-02 -7.47292182e-01\n",
            "  -2.38758642e+00  1.51327310e+01]\n",
            " [ 1.19444961e+00 -5.90185672e-02 -2.59964546e-02  6.61485013e-01\n",
            "   2.32846824e+00 -1.51258840e+01]\n",
            " [ 1.19041290e+00 -6.16713072e-02 -2.60321354e-02 -7.43104956e-01\n",
            "  -2.37865349e+00  1.51228553e+01]\n",
            " [ 1.18681803e+00 -6.41189309e-02 -2.36820277e-02  6.70512185e-01\n",
            "   2.33095843e+00 -1.50759253e+01]\n",
            " [ 1.18384383e+00 -6.59271462e-02 -2.39386375e-02 -7.30587968e-01\n",
            "  -2.36508880e+00  1.50689768e+01]\n",
            " [ 1.18115312e+00 -6.76544293e-02 -2.13772634e-02  6.76661084e-01\n",
            "   2.33056281e+00 -1.50169497e+01]\n",
            " [ 1.17911710e+00 -6.88077966e-02 -2.16528096e-02 -7.17758763e-01\n",
            "  -2.35229303e+00  1.50101732e+01]\n",
            " [ 1.17725542e+00 -6.99396461e-02 -1.95106008e-02  6.80649640e-01\n",
            "   2.32920528e+00 -1.49663439e+01]\n",
            " [ 1.17593374e+00 -7.06306703e-02 -1.97411274e-02 -7.07314077e-01\n",
            "  -2.34218910e+00  1.49609063e+01]\n",
            " [ 1.17471554e+00 -7.13270292e-02 -1.81566002e-02  6.83135315e-01\n",
            "   2.32772479e+00 -1.49283435e+01]\n",
            " [ 1.17389463e+00 -7.17152800e-02 -1.83285920e-02 -6.99689750e-01\n",
            "  -2.33498654e+00  1.49243873e+01]\n",
            " [ 1.17313304e+00 -7.21184812e-02 -1.72437374e-02  6.84628643e-01\n",
            "   2.32645730e+00 -1.49020224e+01]\n",
            " [ 1.17264344e+00 -7.23207503e-02 -1.73627934e-02 -6.94498266e-01\n",
            "  -2.33021090e+00  1.48993317e+01]\n",
            " [ 1.17218664e+00 -7.25391440e-02 -1.66621484e-02  6.85494687e-01\n",
            "   2.32549298e+00 -1.48848511e+01]\n",
            " [ 1.17190618e+00 -7.26339386e-02 -1.67399113e-02 -6.91146417e-01\n",
            "  -2.32722614e+00  1.48831177e+01]\n",
            " [ 1.17164318e+00 -7.27425681e-02 -1.63095603e-02  6.85979539e-01\n",
            "   2.32481187e+00 -1.48742036e+01]\n",
            " [ 1.17148929e+00 -7.27792764e-02 -1.63578985e-02 -6.89079607e-01\n",
            "  -2.32545922e+00  1.48731389e+01]\n",
            " [ 1.17134431e+00 -7.28266163e-02 -1.61059313e-02  6.86241227e-01\n",
            "   2.32435573e+00 -1.48679084e+01]\n",
            " [ 1.17126395e+00 -7.28345126e-02 -1.61346517e-02 -6.87859562e-01\n",
            "  -2.32446985e+00  1.48672830e+01]\n",
            " [ 1.17118791e+00 -7.28500517e-02 -1.59943533e-02  6.86376976e-01\n",
            "   2.32406265e+00 -1.48643637e+01]\n",
            " [ 1.17114848e+00 -7.28454548e-02 -1.60106842e-02 -6.87170873e-01\n",
            "  -2.32395023e+00  1.48640124e+01]\n",
            " [ 1.17111102e+00 -7.28461078e-02 -1.59369723e-02  6.86444294e-01\n",
            "   2.32388066e+00 -1.48624742e+01]\n",
            " [ 1.17109329e+00 -7.28374720e-02 -1.59458432e-02 -6.86800960e-01\n",
            "  -2.32369948e+00  1.48622861e+01]\n",
            " [ 1.17107640e+00 -7.28323229e-02 -1.59099309e-02  6.86475919e-01\n",
            "   2.32377093e+00 -1.48615336e+01]\n",
            " [ 1.17106954e+00 -7.28235975e-02 -1.59145076e-02 -6.86613920e-01\n",
            "  -2.32359374e+00  1.48614383e+01]\n",
            " [ 1.17106299e+00 -7.28171275e-02 -1.58989126e-02  6.86489784e-01\n",
            "   2.32370651e+00 -1.48611092e+01]\n",
            " [ 1.17106115e+00 -7.28098437e-02 -1.59011280e-02 -6.86526855e-01\n",
            "  -2.32356064e+00  1.48610644e+01]\n",
            " [ 1.17105940e+00 -7.28039878e-02 -1.58957393e-02  6.86495305e-01\n",
            "   2.32366960e+00 -1.48609487e+01]\n",
            " [ 1.17105959e+00 -7.27984847e-02 -1.58967201e-02 -6.86491437e-01\n",
            "  -2.32356022e+00  1.48609298e+01]\n",
            " [ 1.17105980e+00 -7.27938696e-02 -1.58959874e-02  6.86497197e-01\n",
            "   2.32364892e+00 -1.48609121e+01]\n",
            " [ 1.17106061e+00 -7.27899722e-02 -1.58963611e-02 -6.86480790e-01\n",
            "  -2.32357182e+00  1.48609055e+01]\n",
            " [ 1.17106143e+00 -7.27866187e-02 -1.58974206e-02  6.86497683e-01\n",
            "   2.32363759e+00 -1.48609259e+01]\n",
            " [ 1.17106227e+00 -7.27839863e-02 -1.58975197e-02 -6.86480748e-01\n",
            "  -2.32358566e+00  1.48609248e+01]\n",
            " [ 1.17106311e+00 -7.27816829e-02 -1.58990113e-02  6.86497731e-01\n",
            "   2.32363149e+00 -1.48609548e+01]\n",
            " [ 1.17106378e+00 -7.27799708e-02 -1.58990020e-02 -6.86484333e-01\n",
            "  -2.32359778e+00  1.48609557e+01]\n",
            " [ 1.17106445e+00 -7.27784557e-02 -1.59003607e-02  6.86497708e-01\n",
            "   2.32362827e+00 -1.48609833e+01]\n",
            " [ 1.17106491e+00 -7.27773769e-02 -1.59003199e-02 -6.86488428e-01\n",
            "  -2.32360705e+00  1.48609846e+01]\n",
            " [ 1.17106538e+00 -7.27764154e-02 -1.59013709e-02  6.86497724e-01\n",
            "   2.32362658e+00 -1.48610061e+01]\n",
            " [ 1.17106567e+00 -7.27757545e-02 -1.59013301e-02 -6.86491862e-01\n",
            "  -2.32361359e+00  1.48610072e+01]\n",
            " [ 1.17106597e+00 -7.27751632e-02 -1.59020707e-02  6.86497787e-01\n",
            "   2.32362570e+00 -1.48610224e+01]\n",
            " [ 1.17106614e+00 -7.27747683e-02 -1.59020399e-02 -6.86494371e-01\n",
            "  -2.32361794e+00  1.48610232e+01]\n",
            " [ 1.17106632e+00 -7.27744150e-02 -1.59025286e-02  6.86497878e-01\n",
            "   2.32362523e+00 -1.48610333e+01]\n",
            " [ 1.17106641e+00 -7.27741845e-02 -1.59025087e-02 -6.86496049e-01\n",
            "  -2.32362071e+00  1.48610338e+01]\n",
            " [ 1.17106651e+00 -7.27739791e-02 -1.59028146e-02  6.86497975e-01\n",
            "   2.32362498e+00 -1.48610402e+01]\n",
            " [ 1.17106655e+00 -7.27738474e-02 -1.59028033e-02 -6.86497100e-01\n",
            "  -2.32362240e+00  1.48610405e+01]\n",
            " [ 1.17106660e+00 -7.27737311e-02 -1.59029859e-02  6.86498065e-01\n",
            "   2.32362483e+00 -1.48610442e+01]\n",
            " [ 1.17106662e+00 -7.27736574e-02 -1.59029805e-02 -6.86497719e-01\n",
            "  -2.32362339e+00  1.48610444e+01]\n",
            " [ 1.17106664e+00 -7.27735933e-02 -1.59030845e-02  6.86498140e-01\n",
            "   2.32362475e+00 -1.48610466e+01]\n",
            " [ 1.17106665e+00 -7.27735527e-02 -1.59030827e-02 -6.86498063e-01\n",
            "  -2.32362396e+00  1.48610467e+01]\n",
            " [ 1.17106666e+00 -7.27735184e-02 -1.59031389e-02  6.86498199e-01\n",
            "   2.32362469e+00 -1.48610478e+01]\n",
            " [ 1.17106665e+00 -7.27734963e-02 -1.59031391e-02 -6.86498241e-01\n",
            "  -2.32362426e+00  1.48610479e+01]\n",
            " [ 1.17106665e+00 -7.27734786e-02 -1.59031676e-02  6.86498243e-01\n",
            "   2.32362465e+00 -1.48610485e+01]\n",
            " [ 1.17106665e+00 -7.27734665e-02 -1.59031688e-02 -6.86498324e-01\n",
            "  -2.32362443e+00  1.48610485e+01]\n",
            " [ 1.17106665e+00 -7.27734578e-02 -1.59031819e-02  6.86498274e-01\n",
            "   2.32362462e+00 -1.48610488e+01]\n",
            " [ 1.17106664e+00 -7.27734511e-02 -1.59031835e-02 -6.86498357e-01\n",
            "  -2.32362451e+00  1.48610488e+01]\n",
            " [ 1.17106664e+00 -7.27734470e-02 -1.59031885e-02  6.86498296e-01\n",
            "   2.32362460e+00 -1.48610489e+01]\n",
            " [ 1.17106664e+00 -7.27734431e-02 -1.59031901e-02 -6.86498365e-01\n",
            "  -2.32362454e+00  1.48610489e+01]\n",
            " [ 1.17106663e+00 -7.27734415e-02 -1.59031912e-02  6.86498311e-01\n",
            "   2.32362459e+00 -1.48610489e+01]\n",
            " [ 1.17106663e+00 -7.27734391e-02 -1.59031928e-02 -6.86498363e-01\n",
            "  -2.32362456e+00  1.48610489e+01]\n",
            " [ 1.17106663e+00 -7.27734386e-02 -1.59031921e-02  6.86498321e-01\n",
            "   2.32362458e+00 -1.48610489e+01]\n",
            " [ 1.17106663e+00 -7.27734370e-02 -1.59031936e-02 -6.86498357e-01\n",
            "  -2.32362456e+00  1.48610489e+01]\n",
            " [ 1.17106663e+00 -7.27734371e-02 -1.59031922e-02  6.86498327e-01\n",
            "   2.32362457e+00 -1.48610489e+01]\n",
            " [ 1.17106662e+00 -7.27734358e-02 -1.59031935e-02 -6.86498351e-01\n",
            "  -2.32362457e+00  1.48610489e+01]\n",
            " [ 1.17106662e+00 -7.27734362e-02 -1.59031920e-02  6.86498331e-01\n",
            "   2.32362457e+00 -1.48610489e+01]\n",
            " [ 1.17106662e+00 -7.27734351e-02 -1.59031933e-02 -6.86498346e-01\n",
            "  -2.32362456e+00  1.48610489e+01]\n",
            " [ 1.17106662e+00 -7.27734357e-02 -1.59031918e-02  6.86498334e-01\n",
            "   2.32362456e+00 -1.48610489e+01]\n",
            " [ 1.17106662e+00 -7.27734347e-02 -1.59031930e-02 -6.86498343e-01\n",
            "  -2.32362456e+00  1.48610489e+01]\n",
            " [ 1.17106662e+00 -7.27734353e-02 -1.59031916e-02  6.86498335e-01\n",
            "   2.32362456e+00 -1.48610489e+01]\n",
            " [ 1.17106662e+00 -7.27734344e-02 -1.59031928e-02 -6.86498340e-01\n",
            "  -2.32362456e+00  1.48610489e+01]\n",
            " [ 1.17106662e+00 -7.27734351e-02 -1.59031915e-02  6.86498336e-01\n",
            "   2.32362456e+00 -1.48610489e+01]\n",
            " [ 1.17106662e+00 -7.27734342e-02 -1.59031926e-02 -6.86498338e-01\n",
            "  -2.32362456e+00  1.48610489e+01]\n",
            " [ 1.17106662e+00 -7.27734349e-02 -1.59031914e-02  6.86498337e-01\n",
            "   2.32362456e+00 -1.48610488e+01]\n",
            " [ 1.17106662e+00 -7.27734341e-02 -1.59031925e-02 -6.86498337e-01\n",
            "  -2.32362456e+00  1.48610489e+01]\n",
            " [ 1.17106662e+00 -7.27734348e-02 -1.59031913e-02  6.86498337e-01\n",
            "   2.32362456e+00 -1.48610488e+01]\n",
            " [ 1.17106662e+00 -7.27734340e-02 -1.59031924e-02 -6.86498337e-01\n",
            "  -2.32362456e+00  1.48610488e+01]]\n"
          ]
        }
      ]
    },
    {
      "cell_type": "code",
      "execution_count": null,
      "metadata": {
        "id": "4TxPOvMj0sK1"
      },
      "outputs": [],
      "source": [
        "# Change the color for the three states:\n",
        "for line_i in mpc_graphics.pred_lines['_x', 'q1']: line_i.set_color('#1f77b4') # blue\n",
        "for line_i in mpc_graphics.pred_lines['_x', 'q2']: line_i.set_color('#ff7f0e') # orange\n",
        "for line_i in mpc_graphics.pred_lines['_x', 'q3']: line_i.set_color('#2ca02c') # green\n",
        "# Change the color for the two inputs:\n",
        "for line_i in mpc_graphics.pred_lines['_u', 'u1']: line_i.set_color('#1f77b4')\n",
        "for line_i in mpc_graphics.pred_lines['_u', 'u2']: line_i.set_color('#ff7f0e')\n",
        "for line_i in mpc_graphics.pred_lines['_u', 'u3']: line_i.set_color('#2ca02c')\n",
        "\n",
        "# Make all predictions transparent:\n",
        "for line_i in mpc_graphics.pred_lines.full: line_i.set_alpha(0.2)"
      ]
    },
    {
      "cell_type": "code",
      "execution_count": null,
      "metadata": {
        "id": "nx3Fysw40uDF",
        "colab": {
          "base_uri": "https://localhost:8080/"
        },
        "outputId": "eef7cd09-1cdd-4198-8d9f-ab1f1152dfd6"
      },
      "outputs": [
        {
          "output_type": "execute_result",
          "data": {
            "text/plain": [
              "<matplotlib.legend.Legend at 0x7fb08bf25520>"
            ]
          },
          "metadata": {},
          "execution_count": 34
        }
      ],
      "source": [
        "# Get line objects (note sum of lists creates a concatenated list)\n",
        "lines = sim_graphics.result_lines['_x', 'q1']+sim_graphics.result_lines['_x', 'q2']+sim_graphics.result_lines['_x', 'q3']\n",
        "\n",
        "ax[0].legend(lines,['q1','q2','q3'],title='Joint')\n",
        "\n",
        "# also set legend for second subplot:\n",
        "lines = sim_graphics.result_lines['_u', 'u1']+sim_graphics.result_lines['_u', 'u2']+sim_graphics.result_lines['_u', 'u3']\n",
        "ax[1].legend(lines,['u1','u2','u3'],title='Torque')"
      ]
    },
    {
      "cell_type": "code",
      "execution_count": null,
      "metadata": {
        "id": "NYbZghYU0v5m"
      },
      "outputs": [],
      "source": [
        "# running the control loop\n",
        "x0 = np.pi*np.array([-0.5, 0, 0, 0, 0, 0]).reshape(-1,1)\n",
        "simulator.reset_history()\n",
        "simulator.x0 = x0\n",
        "mpc.reset_history()\n",
        "mpc.x0 = x0"
      ]
    },
    {
      "cell_type": "code",
      "execution_count": null,
      "metadata": {
        "id": "2VlyG6sQ0wkt"
      },
      "outputs": [],
      "source": [
        "%%capture\n",
        "steps=100\n",
        "for i in range(steps):\n",
        "    u0 = mpc.make_step(x0)\n",
        "    x0 = simulator.make_step(u0)"
      ]
    },
    {
      "cell_type": "code",
      "execution_count": null,
      "metadata": {
        "id": "T_kL3lan0z1V",
        "colab": {
          "base_uri": "https://localhost:8080/",
          "height": 370
        },
        "outputId": "624945e7-4b01-4fb8-9613-335e4598fcc1"
      },
      "outputs": [
        {
          "output_type": "execute_result",
          "data": {
            "text/plain": [
              "<Figure size 1152x648 with 2 Axes>"
            ],
            "image/png": "[encoded data removed]"
          },
          "metadata": {},
          "execution_count": 37
        }
      ],
      "source": [
        "# Plot predictions from t=0\n",
        "mpc_graphics.plot_predictions(t_ind=0)\n",
        "# Plot results until current time\n",
        "sim_graphics.plot_results()\n",
        "sim_graphics.reset_axes()\n",
        "fig"
      ]
    },
    {
      "cell_type": "code",
      "execution_count": null,
      "metadata": {
        "id": "BiAAdxrz_rlC"
      },
      "outputs": [],
      "source": [
        "from matplotlib.animation import FuncAnimation, FFMpegWriter, ImageMagickWriter\n",
        "\n",
        "def update(t_ind):\n",
        "    sim_graphics.plot_results(t_ind)\n",
        "    mpc_graphics.plot_predictions(t_ind)\n",
        "    mpc_graphics.reset_axes()\n"
      ]
    },
    {
      "cell_type": "code",
      "execution_count": null,
      "metadata": {
        "id": "8IJ2BSHrOzjx"
      },
      "outputs": [],
      "source": [
        "anim = FuncAnimation(fig, update, frames=steps, repeat=False)\n",
        "gif_writer = ImageMagickWriter(fps=3)\n",
        "anim.save('anim.gif', writer=gif_writer)"
      ]
    },
    {
      "cell_type": "code",
      "execution_count": null,
      "metadata": {
        "id": "RXAu6n8GKGmw"
      },
      "outputs": [],
      "source": [
        "from do_mpc.data import save_results, load_results\n",
        "save_results([mpc,mpc0, simulator])\n"
      ]
    },
    {
      "cell_type": "code",
      "execution_count": null,
      "metadata": {
        "id": "kzzJlKBzNH0S"
      },
      "outputs": [],
      "source": [
        "results = load_results('./results/results.pkl')"
      ]
    },
    {
      "cell_type": "code",
      "execution_count": null,
      "metadata": {
        "id": "VQFOS59LNu4b",
        "colab": {
          "base_uri": "https://localhost:8080/"
        },
        "outputId": "03c99e64-cf05-4522-c89a-342a13adc909"
      },
      "outputs": [
        {
          "output_type": "stream",
          "name": "stdout",
          "text": [
            "[[-1.57079633e+00  0.00000000e+00  0.00000000e+00  0.00000000e+00\n",
            "   0.00000000e+00  0.00000000e+00]\n",
            " [-1.47226973e+00 -7.52847879e-02 -2.14683151e-02  1.89567546e+00\n",
            "  -1.36710754e+00 -4.81475217e-01]\n",
            " [-1.24920949e+00 -1.93266179e-01 -5.41569699e-02  2.41248747e+00\n",
            "  -7.22216523e-01 -2.66133545e-01]\n",
            " [-9.79452598e-01 -2.49453549e-01 -6.76867437e-02  2.83443705e+00\n",
            "  -1.74492999e-01 -6.59636103e-02]\n",
            " [-6.76891704e-01 -2.50605261e-01 -6.62910848e-02  3.11870856e+00\n",
            "   2.59977802e-01  8.77232269e-02]\n",
            " [-3.84287301e-01 -2.15900002e-01 -6.22581957e-02  2.77425731e+00\n",
            "   2.81166374e-01  8.79881735e-02]\n",
            " [-1.27865935e-01 -1.82622543e-01 -5.75262891e-02  2.40601668e+00\n",
            "   2.43234454e-01  8.00248028e-02]\n",
            " [ 9.46357535e-02 -1.54783579e-01 -5.21540887e-02  2.08996541e+00\n",
            "   2.10295678e-01  7.28084957e-02]\n",
            " [ 2.87879021e-01 -1.31398331e-01 -4.65824697e-02  1.81587677e+00\n",
            "   1.81596606e-01  6.51587613e-02]\n",
            " [ 4.55742224e-01 -1.11684740e-01 -4.11579462e-02  1.57789658e+00\n",
            "   1.56555663e-01  5.75674971e-02]\n",
            " [ 6.01575866e-01 -9.50119217e-02 -3.60831769e-02  1.37124317e+00\n",
            "   1.34766020e-01  5.03985084e-02]\n",
            " [ 7.28285957e-01 -8.08707596e-02 -3.14576113e-02  1.19176760e+00\n",
            "   1.15835407e-01  4.38477344e-02]\n",
            " [ 8.38392712e-01 -6.88507692e-02 -2.73143334e-02  1.03587211e+00\n",
            "   9.94143185e-02  3.79903923e-02]\n",
            " [ 9.34081718e-01 -5.86181921e-02 -2.36469798e-02  9.00437639e-01\n",
            "   8.51963645e-02  3.28260818e-02]\n",
            " [ 1.01724856e+00 -4.98986044e-02 -2.04276515e-02  7.82760987e-01\n",
            "   7.29111093e-02  2.83133627e-02]\n",
            " [ 1.08953764e+00 -4.24639777e-02 -1.76181167e-02  6.80499738e-01\n",
            "   6.23177925e-02  2.43922932e-02]\n",
            " [ 1.15237588e+00 -3.61231880e-02 -1.51765041e-02  5.91623882e-01\n",
            "   5.32013230e-02  2.09975096e-02]\n",
            " [ 1.20700182e+00 -3.07149862e-02 -1.30611260e-02  5.14373610e-01\n",
            "   4.53697901e-02  1.80651255e-02]\n",
            " [ 1.25449085e+00 -2.61026798e-02 -1.12325345e-02  4.47222725e-01\n",
            "   3.86526997e-02  1.55359668e-02]\n",
            " [ 1.29577688e+00 -2.21700091e-02 -9.65451866e-03  3.88847048e-01\n",
            "   3.28994224e-02  1.33567981e-02]\n",
            " [ 1.33167121e+00 -1.88178670e-02 -8.29447960e-03  3.38097209e-01\n",
            "   2.79776186e-02  1.14805179e-02]\n",
            " [ 1.36287869e+00 -1.59616411e-02 -7.12345081e-03  2.93975213e-01\n",
            "   2.37716106e-02  9.86585871e-03]\n",
            " [ 1.39001182e+00 -1.35290247e-02 -6.11592503e-03  2.55614244e-01\n",
            "   2.01807199e-02  8.47688430e-03]\n",
            " [ 1.41360291e+00 -1.14581922e-02 -5.24958475e-03  2.22261238e-01\n",
            "   1.71176484e-02  7.28241455e-03]\n",
            " [ 1.43411462e+00 -9.69626233e-03 -4.50499432e-03  1.93261833e-01\n",
            "   1.45069213e-02  6.25546533e-03]\n",
            " [ 1.45194910e+00 -8.19800140e-03 -3.86528495e-03  1.68047343e-01\n",
            "   1.22834392e-02  5.37272509e-03]\n",
            " [ 1.46745593e+00 -6.92471594e-03 -3.31585335e-03  1.46123487e-01\n",
            "   1.03911681e-02  4.61407375e-03]\n",
            " [ 1.48093901e+00 -5.84331246e-03 -2.84408141e-03  1.27060614e-01\n",
            "   8.78194568e-03  3.96216610e-03]\n",
            " [ 1.49266253e+00 -4.92549507e-03 -2.43908121e-03  1.10485229e-01\n",
            "   7.41442852e-03  3.40206080e-03]\n",
            " [ 1.50285619e+00 -4.14707383e-03 -2.09146896e-03  9.60726302e-02\n",
            "   6.25317305e-03  2.92088638e-03]\n",
            " [ 1.51171968e+00 -3.48737622e-03 -1.79316381e-03  8.35405296e-02\n",
            "   5.26781631e-03  2.50756491e-03]\n",
            " [ 1.51942661e+00 -2.92874240e-03 -1.53721130e-03  7.26435017e-02\n",
            "   4.43236804e-03  2.15256440e-03]\n",
            " [ 1.52612793e+00 -2.45609084e-03 -1.31762977e-03  6.31681648e-02\n",
            "   3.72459908e-03  1.84768377e-03]\n",
            " [ 1.53195488e+00 -2.05654796e-03 -1.12927620e-03  5.49289946e-02\n",
            "   3.12550760e-03  1.58587018e-03]\n",
            " [ 1.53702157e+00 -1.71912895e-03 -9.67730220e-04  4.77646843e-02\n",
            "   2.61886097e-03  1.36105883e-03]\n",
            " [ 1.54142721e+00 -1.43446516e-03 -8.29193634e-04  4.15349814e-02\n",
            "   2.19079998e-03  1.16803584e-03]\n",
            " [ 1.54525807e+00 -1.19457010e-03 -7.10403380e-04  3.61179400e-02\n",
            "   1.82949698e-03  1.00231923e-03]\n",
            " [ 1.54858914e+00 -9.92638237e-04 -6.08557215e-04  3.14075275e-02\n",
            "   1.52486735e-03  8.60056174e-04]\n",
            " [ 1.55148565e+00 -8.22874458e-04 -5.21248483e-04  2.73115505e-02\n",
            "   1.26831189e-03  7.37937239e-04]\n",
            " [ 1.55400429e+00 -6.80344971e-04 -4.46411233e-04  2.37498454e-02\n",
            "   1.05250820e-03  6.33116205e-04]\n",
            " [ 1.55619437e+00 -5.60854565e-04 -3.82271335e-04  2.06527099e-02\n",
            "   8.71218712e-04  5.43150465e-04]\n",
            " [ 1.55809877e+00 -4.60835629e-04 -3.27306208e-04  1.79595373e-02\n",
            "   7.19136454e-04  4.65940132e-04]\n",
            " [ 1.55975474e+00 -3.77257551e-04 -2.80208888e-04  1.56176288e-02\n",
            "   5.91748438e-04  3.99681586e-04]\n",
            " [ 1.56119471e+00 -3.07546447e-04 -2.39858076e-04  1.35811599e-02\n",
            "   4.85222750e-04  3.42823678e-04]\n",
            " [ 1.56244685e+00 -2.49518954e-04 -2.05291429e-04  1.18102879e-02\n",
            "   3.96298843e-04  2.94037314e-04]\n",
            " [ 1.56353567e+00 -2.01323431e-04 -1.75683467e-04  1.02703666e-02\n",
            "   3.22213912e-04  2.52178386e-04]\n",
            " [ 1.56448248e+00 -1.61390749e-04 -1.50326229e-04  8.93127004e-03\n",
            "   2.60623779e-04  2.16264965e-04]\n",
            " [ 1.56530580e+00 -1.28393774e-04 -1.28611985e-04  7.76680542e-03\n",
            "   2.09536613e-04  1.85456928e-04]\n",
            " [ 1.56602173e+00 -1.01209688e-04 -1.10019623e-04  6.75419359e-03\n",
            "   1.67272541e-04  1.59028982e-04]\n",
            " [ 1.56664430e+00 -7.88896046e-05 -9.41023160e-05  5.87362840e-03\n",
            "   1.32407762e-04  1.36359820e-04]\n",
            " [ 1.56718567e+00 -6.06325176e-05 -8.04769141e-05  5.10788747e-03\n",
            "   1.03738700e-04  1.16916051e-04]\n",
            " [ 1.56765644e+00 -4.57629525e-05 -6.88149139e-05  4.44199508e-03\n",
            "   8.02489363e-05  1.00239772e-04]\n",
            " [ 1.56806582e+00 -3.37123701e-05 -5.88345008e-05  3.86292965e-03\n",
            "   6.10796438e-05  8.59387156e-05]\n",
            " [ 1.56842181e+00 -2.40012032e-05 -5.02945956e-05  3.35936628e-03\n",
            "   4.55114186e-05  7.36733731e-05]\n",
            " [ 1.56873139e+00 -1.62278404e-05 -4.29881052e-05  2.92145987e-03\n",
            "   3.29325984e-05  6.31565147e-05]\n",
            " [ 1.56900059e+00 -1.00544649e-05 -3.67378405e-05  2.54064693e-03\n",
            "   2.28346346e-05  5.41379288e-05]\n",
            " [ 1.56923469e+00 -5.19855458e-06 -3.13917644e-05  2.20948343e-03\n",
            "   1.47854514e-05  4.64058487e-05]\n",
            " [ 1.56943827e+00 -1.42334017e-06 -2.68198001e-05  1.92149383e-03\n",
            "   8.42768339e-06  3.97758798e-05]\n",
            " [ 1.56961530e+00  1.46849014e-06 -2.29103452e-05  1.67104953e-03\n",
            "   3.45742622e-06  3.40924396e-05]\n",
            " [ 1.56976925e+00  3.64153054e-06 -1.95678620e-05  1.45325416e-03\n",
            "  -3.75556902e-07  2.92199802e-05]\n",
            " [ 1.56990313e+00  5.23265417e-06 -1.67105375e-05  1.26385079e-03\n",
            "  -3.28176936e-06  2.50432399e-05]\n",
            " [ 1.57001956e+00  6.35541513e-06 -1.42682821e-05  1.09913714e-03\n",
            "  -5.43515862e-06  2.14626087e-05]\n",
            " [ 1.57012080e+00  7.10392213e-06 -1.21811379e-05  9.55894510e-04\n",
            "  -6.98196035e-06  1.83935462e-05]\n",
            " [ 1.57020885e+00  7.55572746e-06 -1.03977160e-05  8.31323810e-04\n",
            "  -8.04292273e-06  1.57632937e-05]\n",
            " [ 1.57028542e+00  7.77463387e-06 -8.87403195e-06  7.22990233e-04\n",
            "  -8.71651874e-06  1.35088740e-05]\n",
            " [ 1.57035200e+00  7.81298082e-06 -7.57244510e-06  6.28777238e-04\n",
            "  -9.08528820e-06  1.15769161e-05]\n",
            " [ 1.57040991e+00  7.71350075e-06 -6.46075384e-06  5.46843482e-04\n",
            "  -9.21552623e-06  9.92097102e-06]\n",
            " [ 1.57046027e+00  7.51092353e-06 -5.51139763e-06  4.75588193e-04\n",
            "  -9.16235830e-06  8.50166913e-06]\n",
            " [ 1.57050406e+00  7.23339525e-06 -4.70081055e-06  4.13619717e-04\n",
            "  -8.97137136e-06  7.28548428e-06]\n",
            " [ 1.57054215e+00  6.90346744e-06 -4.00880520e-06  3.59727357e-04\n",
            "  -8.67865427e-06  6.24332780e-06]\n",
            " [ 1.57057527e+00  6.53906996e-06 -3.41813144e-06  3.12858206e-04\n",
            "  -8.31327339e-06  5.35028785e-06]\n",
            " [ 1.57060408e+00  6.15455819e-06 -2.91402179e-06  2.72096943e-04\n",
            "  -7.89881456e-06  4.58504332e-06]\n",
            " [ 1.57062913e+00  5.76109353e-06 -2.48385827e-06  2.36647429e-04\n",
            "  -7.45386621e-06  3.92930389e-06]\n",
            " [ 1.57065091e+00  5.36730492e-06 -2.11685349e-06  2.05817336e-04\n",
            "  -6.99308779e-06  3.36741289e-06]\n",
            " [ 1.57066986e+00  4.97981829e-06 -1.80377872e-06  1.79004666e-04\n",
            "  -6.52792376e-06  2.88592488e-06]\n",
            " [ 1.57068634e+00  4.60342920e-06 -1.53675835e-06  1.55685748e-04\n",
            "  -6.06707528e-06  2.47338044e-06]\n",
            " [ 1.57070067e+00  4.24165405e-06 -1.30904682e-06  1.35405408e-04\n",
            "  -5.61742160e-06  2.12006784e-06]\n",
            " [ 1.57071313e+00  3.89693692e-06 -1.11489574e-06  1.17767078e-04\n",
            "  -5.18261043e-06  1.81698360e-06]\n",
            " [ 1.57072397e+00  3.57086136e-06 -9.49390064e-07  1.02427036e-04\n",
            "  -4.76731572e-06  1.55750502e-06]\n",
            " [ 1.57073340e+00  3.26427883e-06 -8.08312408e-07  8.90857685e-05\n",
            "  -4.37371951e-06  1.33537675e-06]\n",
            " [ 1.57074159e+00  2.97768804e-06 -6.88083842e-07  7.74821224e-05\n",
            "  -4.00159977e-06  1.14442982e-06]\n",
            " [ 1.57074872e+00  2.71094588e-06 -5.85659633e-07  6.73904676e-05\n",
            "  -3.65352503e-06  9.81108533e-07]\n",
            " [ 1.57075492e+00  2.46364914e-06 -4.98405655e-07  5.86134948e-05\n",
            "  -3.32894862e-06  8.41178395e-07]\n",
            " [ 1.57076032e+00  2.23518738e-06 -4.24080651e-07  5.09800334e-05\n",
            "  -3.02783498e-06  7.21415246e-07]\n",
            " [ 1.57076501e+00  2.02466649e-06 -3.60762519e-07  4.43411001e-05\n",
            "  -2.74970503e-06  6.19074984e-07]\n",
            " [ 1.57076909e+00  1.83134160e-06 -3.06833313e-07  3.85663657e-05\n",
            "  -2.49202152e-06  5.30782052e-07]\n",
            " [ 1.57077264e+00  1.65430548e-06 -2.60926516e-07  3.35440263e-05\n",
            "  -2.25554554e-06  4.55295662e-07]\n",
            " [ 1.57077572e+00  1.49254233e-06 -2.21849977e-07  2.91757885e-05\n",
            "  -2.03859399e-06  3.90525034e-07]\n",
            " [ 1.57077840e+00  1.34504508e-06 -1.88592325e-07  2.53766168e-05\n",
            "  -1.84039597e-06  3.35116767e-07]\n",
            " [ 1.57078074e+00  1.21044309e-06 -1.60261915e-07  2.20721724e-05\n",
            "  -1.65977592e-06  2.87960708e-07]\n",
            " [ 1.57078277e+00  1.08813884e-06 -1.36135815e-07  1.91976728e-05\n",
            "  -1.49440502e-06  2.47111982e-07]\n",
            " [ 1.57078454e+00  9.77245566e-07 -1.15611130e-07  1.66975255e-05\n",
            "  -1.34403577e-06  2.12050975e-07]\n",
            " [ 1.57078607e+00  8.76859395e-07 -9.81554344e-08  1.45229977e-05\n",
            "  -1.20758966e-06  1.81973752e-07]\n",
            " [ 1.57078741e+00  7.86112292e-07 -8.33130939e-08  1.26316867e-05\n",
            "  -1.08399666e-06  1.56181990e-07]\n",
            " [ 1.57078857e+00  7.04196427e-07 -7.06965084e-08  1.09866931e-05\n",
            "  -9.72179236e-07  1.34042747e-07]\n",
            " [ 1.57078958e+00  6.30341036e-07 -5.99749967e-08  9.55594803e-06\n",
            "  -8.71185810e-07  1.15054766e-07]\n",
            " [ 1.57079046e+00  5.63821772e-07 -5.08650337e-08  8.31155276e-06\n",
            "  -7.80107118e-07  9.87840473e-08]\n",
            " [ 1.57079122e+00  5.03983765e-07 -4.31269431e-08  7.22920646e-06\n",
            "  -6.97997369e-07  8.48008372e-08]\n",
            " [ 1.57079189e+00  4.50196937e-07 -3.65548731e-08  6.28784007e-06\n",
            "  -6.24145379e-07  7.28349440e-08]\n",
            " [ 1.57079247e+00  4.01902777e-07 -3.09744817e-08  5.46905187e-06\n",
            "  -5.57700052e-07  6.25455179e-08]]\n"
          ]
        }
      ],
      "source": [
        "results['mpc']\n",
        "x = results['mpc']['_x']\n",
        "print(x)"
      ]
    }
  ],
  "metadata": {
    "colab": {
      "provenance": [],
      "include_colab_link": true
    },
    "kernelspec": {
      "display_name": "Python 3",
      "name": "python3"
    },
    "language_info": {
      "name": "python"
    }
  },
  "nbformat": 4,
  "nbformat_minor": 0
}